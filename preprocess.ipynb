{
 "cells": [
  {
   "cell_type": "code",
   "execution_count": 115,
   "id": "3d4dad72",
   "metadata": {},
   "outputs": [],
   "source": [
    "import numpy as np\n",
    "\n",
    "pose2d = np.load(\"./data/fs_tas/features/2dvpd/men_olympic_short_program_2010_01_00011475_00015700.npy\")\n",
    "pose3d = np.load(\"./data/fs_tas/features/pose3d/men_olympic_short_program_2010_01_00011475_00015700.npy\")"
   ]
  },
  {
   "cell_type": "code",
   "execution_count": 127,
   "id": "ece2fd1d",
   "metadata": {},
   "outputs": [
    {
     "name": "stdout",
     "output_type": "stream",
     "text": [
      "(4225, 52) (4225, 54)\n"
     ]
    }
   ],
   "source": [
    "print(pose2d.shape, pose3d.shape)"
   ]
  },
  {
   "cell_type": "code",
   "execution_count": 147,
   "id": "f9aacfe5",
   "metadata": {},
   "outputs": [],
   "source": [
    "data_reshaped = pose3d.reshape(-1, 18, 3)[1000:1100,:,:] # local, euler angles # 2000, 22000"
   ]
  },
  {
   "cell_type": "code",
   "execution_count": 148,
   "id": "ed59b3f3",
   "metadata": {},
   "outputs": [],
   "source": [
    "import numpy as np\n",
    "from scipy.spatial.transform import Rotation as R\n",
    "\n",
    "def plot_3d(pose_3d):\n",
    "    all_poses = pose_3d\n",
    "    poses = []\n",
    "\n",
    "    for frame in range(len(all_poses)):\n",
    "        vals = all_poses[frame]\n",
    "        joint_positions = vals[:17].copy()\n",
    "        euler_angles = vals[17].copy()\n",
    "        \n",
    "        rot = R.from_euler('xyz', euler_angles, degrees=False)\n",
    "        # rot = R.from_rotvec(-euler_angles, degrees=True)\n",
    "        joint_positions = rot.apply(joint_positions)\n",
    "        \n",
    "        poses.append(joint_positions)\n",
    "\n",
    "    return np.array(poses)"
   ]
  },
  {
   "cell_type": "code",
   "execution_count": 149,
   "id": "52edce43",
   "metadata": {},
   "outputs": [
    {
     "data": {
      "text/plain": [
       "array([[ 0.        ,  0.        ,  0.        ],\n",
       "       [ 0.1006977 ,  0.06082883,  0.04249604],\n",
       "       [ 0.41956523,  0.06504617, -0.40193571],\n",
       "       [ 0.14529508,  0.67268797, -0.62872569],\n",
       "       [-0.09768949, -0.07147211, -0.03843642],\n",
       "       [ 0.34618816,  0.00128235, -0.4528931 ],\n",
       "       [ 0.20232638,  0.19693299, -0.84600965],\n",
       "       [ 0.1278628 , -0.32472052,  0.23286443],\n",
       "       [ 0.26876279, -0.66081341,  0.47285089],\n",
       "       [ 0.54390968, -0.97989433,  0.50566116],\n",
       "       [ 0.5290155 , -1.02669336,  0.56144277],\n",
       "       [ 0.09653294, -0.70043098,  0.4325931 ],\n",
       "       [-0.01965399, -0.54567086,  0.09682585],\n",
       "       [ 0.15675821, -0.54497702, -0.17256443],\n",
       "       [ 0.40595366, -0.58604545,  0.47034126],\n",
       "       [ 0.60172839, -0.49534365,  0.0546133 ],\n",
       "       [ 0.75353626, -0.59662836, -0.27882309]])"
      ]
     },
     "execution_count": 149,
     "metadata": {},
     "output_type": "execute_result"
    }
   ],
   "source": [
    "poses_global = plot_3d(data_reshaped)\n",
    "poses_global[0]"
   ]
  },
  {
   "cell_type": "code",
   "execution_count": 175,
   "id": "9a70e710",
   "metadata": {},
   "outputs": [],
   "source": [
    "import numpy as np\n",
    "from scipy.spatial.transform import Rotation as R\n",
    "\n",
    "def get_canonical_orientation(X, torso_forward_vec, spine_up_vec,\n",
    "                              interp_start=45, interp_range=30):\n",
    "    X_zm = X - np.mean(X, axis=0).flatten()\n",
    "    _, _, V = np.linalg.svd(X_zm)\n",
    "    torso_forward_vec = -V[2, :] if V[2, :].dot(torso_forward_vec) < 0 else V[2, :]\n",
    "    spine_up_vec = -V[0, :] if V[0, :].dot(spine_up_vec) < 0 else V[0, :]\n",
    "    torso_pitch = np.degrees(np.arcsin(torso_forward_vec[2]))\n",
    "    if torso_pitch > interp_start:\n",
    "        if torso_pitch < interp_start + interp_range:\n",
    "            theta = (torso_pitch - interp_start) / interp_range\n",
    "            return theta * -spine_up_vec + (1. - theta) * torso_forward_vec\n",
    "        else:\n",
    "            return -spine_up_vec\n",
    "    elif torso_pitch < -interp_start:\n",
    "        if torso_pitch > -interp_start - interp_range:\n",
    "            theta = (-torso_pitch - interp_start) / interp_range\n",
    "            return theta * spine_up_vec + (1. - theta) * torso_forward_vec\n",
    "        else:\n",
    "            return spine_up_vec\n",
    "    else:\n",
    "        return torso_forward_vec\n",
    "\n",
    "def h36m_global_to_local(pose_3d_global):\n",
    "    \"\"\"\n",
    "    Convert H36M global joint positions to local with canonical orientation alignment.\n",
    "    \n",
    "    H36M 17-joint skeleton:\n",
    "    0: Hip, 1: RHip, 2: RKnee, 3: RAnkle, 4: LHip, 5: LKnee, 6: LAnkle  \n",
    "    7: Spine, 8: Thorax, 9: Neck, 10: Head, 11: LShoulder, 12: LElbow, 13: LWrist\n",
    "    14: RShoulder, 15: RElbow, 16: RWrist\n",
    "    \n",
    "    Args:\n",
    "        pose_3d_global: (nframe, 17, 3) array of global joint positions\n",
    "    \n",
    "    Returns:\n",
    "        pose_3d_local: (nframe, 18, 3) array where:\n",
    "                      - First row (index 0) contains euler angles (rx, ry, rz)\n",
    "                      - Remaining 17 rows contain local joint positions\n",
    "    \"\"\"\n",
    "    nframes, njoints, _ = pose_3d_global.shape\n",
    "    pose_3d_local = np.zeros((nframes, 18, 3))\n",
    "    \n",
    "    Z_UNIT = np.array([0, 0, 1])\n",
    "    HIP, SPINE, NECK, L_HIP, R_HIP, L_SHOULDER, R_SHOULDER = 0, 7, 9, 4, 1, 11, 14\n",
    "    \n",
    "    for frame in range(nframes):\n",
    "        xyz = pose_3d_global[frame].copy()\n",
    "        \n",
    "        root_position = xyz[HIP].copy()\n",
    "        xyz = xyz - root_position\n",
    "        \n",
    "        key_joints = xyz[[HIP, SPINE, NECK, L_SHOULDER, R_SHOULDER, L_HIP, R_HIP], :]\n",
    "        torso_forward_vec = np.cross(xyz[L_SHOULDER, :] - xyz[HIP, :], xyz[R_SHOULDER, :] - xyz[HIP, :])\n",
    "        spine_up_vec = xyz[NECK, :] - xyz[HIP, :]\n",
    "        \n",
    "        forward_vec = get_canonical_orientation(key_joints, torso_forward_vec, spine_up_vec)\n",
    "        forward_vec[2] = 0\n",
    "        forward_vec = forward_vec / np.linalg.norm(forward_vec)\n",
    "        lateral_vec = np.cross(Z_UNIT, forward_vec)\n",
    "        forward_vec = np.cross(lateral_vec, Z_UNIT)\n",
    "\n",
    "        lateral_vec /= np.linalg.norm(lateral_vec)\n",
    "        forward_vec /= np.linalg.norm(forward_vec)\n",
    "\n",
    "        rot_mat = np.stack([lateral_vec, forward_vec, Z_UNIT], axis=1)\n",
    "\n",
    "        if np.linalg.det(rot_mat) < 0:\n",
    "            rot_mat[:, 2] *= -1  # Flip Z to restore right-handedness\n",
    "        \n",
    "        euler_angles = R.from_matrix(rot_mat).as_euler('xyz', degrees=False)\n",
    "        \n",
    "        pose_3d_local[frame, 17, :] = euler_angles\n",
    "        pose_3d_local[frame, :17, :] = xyz\n",
    "    \n",
    "    return pose_3d_local"
   ]
  },
  {
   "cell_type": "code",
   "execution_count": 176,
   "id": "ddb833b8",
   "metadata": {},
   "outputs": [
    {
     "name": "stdout",
     "output_type": "stream",
     "text": [
      "[-3.14159265  0.         -2.92402609] [-0.40160613 -0.27975454  0.35582679]\n"
     ]
    }
   ],
   "source": [
    "poses_local = h36m_global_to_local(pose_3d_global=poses_global)\n",
    "print(poses_local[1][17], data_reshaped[1][17])"
   ]
  },
  {
   "cell_type": "code",
   "execution_count": 215,
   "id": "5d00d745",
   "metadata": {},
   "outputs": [],
   "source": [
    "import numpy as np\n",
    "from scipy.spatial.transform import Rotation as R\n",
    "\n",
    "# Joint indices for H36M 17-joint format\n",
    "HIP, NECK, L_HIP, R_HIP, L_SHOULDER, R_SHOULDER = 0, 9, 4, 1, 11, 14\n",
    "\n",
    "\n",
    "def estimate_alignment_euler(poses, order=\"xyz\"):\n",
    "    \"\"\"\n",
    "    Estimate canonical alignment rotation from Human3.6M pose.\n",
    "\n",
    "    Parameters:\n",
    "    -----------\n",
    "    poses : ndarray (17, 3) — single frame of joint positions\n",
    "    order : str — Euler rotation order ('xyz', 'zyx', etc.)\n",
    "\n",
    "    Returns:\n",
    "    --------\n",
    "    euler_angles : ndarray (3,) — Euler angles in radians\n",
    "    \"\"\"\n",
    "    # 1. Extract key joints\n",
    "    r_hip = poses[R_HIP]\n",
    "    l_hip = poses[L_HIP]\n",
    "    neck = poses[NECK]\n",
    "    hip = poses[HIP]\n",
    "\n",
    "    # 2. Estimate local torso axes\n",
    "    x_axis = r_hip - l_hip  # right-to-left (→ x)\n",
    "\n",
    "    z_axis = neck - hip  # up (→ z)\n",
    "\n",
    "    # 3. Compute y as perpendicular to x and z\n",
    "    y_axis = np.cross(z_axis, x_axis) # forward\n",
    "\n",
    "    # 4. Orthonormalize\n",
    "    x_axis = x_axis / np.linalg.norm(x_axis)\n",
    "    y_axis = y_axis / np.linalg.norm(y_axis)\n",
    "    z_axis = z_axis / np.linalg.norm(z_axis)\n",
    "    \n",
    "    # Re-orthogonalize (in case of drift)\n",
    "    y_axis = np.cross(z_axis, x_axis)  # ensures right-handed system\n",
    "\n",
    "    # 5. Form rotation matrix (columns = basis vectors)\n",
    "    R_align = np.stack([x_axis, y_axis, z_axis], axis=1)  # shape (3, 3)\n",
    "\n",
    "    # 6. Fix if left-handed (negative determinant)\n",
    "    if np.linalg.det(R_align) < 0:\n",
    "        R_align[:, 0] *= -1  # Flip x to fix handedness\n",
    "\n",
    "    # 7. Convert to Euler angles\n",
    "    return R.from_matrix(R_align).as_euler(order, degrees=False)"
   ]
  },
  {
   "cell_type": "code",
   "execution_count": 200,
   "id": "a1a8c5fc",
   "metadata": {},
   "outputs": [
    {
     "ename": "NameError",
     "evalue": "name 'zyx' is not defined",
     "output_type": "error",
     "traceback": [
      "\u001b[31m---------------------------------------------------------------------------\u001b[39m",
      "\u001b[31mNameError\u001b[39m                                 Traceback (most recent call last)",
      "\u001b[36mCell\u001b[39m\u001b[36m \u001b[39m\u001b[32mIn[200]\u001b[39m\u001b[32m, line 2\u001b[39m\n\u001b[32m      1\u001b[39m HIP, NECK, L_HIP, R_HIP, L_SHOULDER, R_SHOULDER = \u001b[32m0\u001b[39m, \u001b[32m9\u001b[39m, \u001b[32m4\u001b[39m, \u001b[32m1\u001b[39m, \u001b[32m11\u001b[39m, \u001b[32m14\u001b[39m\n\u001b[32m----> \u001b[39m\u001b[32m2\u001b[39m euler_angle = \u001b[43mestimate_alignment_euler\u001b[49m\u001b[43m(\u001b[49m\n\u001b[32m      3\u001b[39m \u001b[43m    \u001b[49m\u001b[43mposes_global\u001b[49m\u001b[43m[\u001b[49m\u001b[32;43m0\u001b[39;49m\u001b[43m]\u001b[49m\n\u001b[32m      4\u001b[39m \u001b[43m)\u001b[49m\n\u001b[32m      6\u001b[39m \u001b[38;5;28mprint\u001b[39m(euler_angle, data_reshaped[\u001b[32m0\u001b[39m][\u001b[32m17\u001b[39m])\n",
      "\u001b[36mCell\u001b[39m\u001b[36m \u001b[39m\u001b[32mIn[199]\u001b[39m\u001b[32m, line 51\u001b[39m, in \u001b[36mestimate_alignment_euler\u001b[39m\u001b[34m(poses, order)\u001b[39m\n\u001b[32m     48\u001b[39m     R_align[:, \u001b[32m0\u001b[39m] *= -\u001b[32m1\u001b[39m  \u001b[38;5;66;03m# Flip x to fix handedness\u001b[39;00m\n\u001b[32m     50\u001b[39m \u001b[38;5;66;03m# 7. Convert to Euler angles\u001b[39;00m\n\u001b[32m---> \u001b[39m\u001b[32m51\u001b[39m \u001b[38;5;28;01mreturn\u001b[39;00m R.from_matrix(R_align).as_euler(\u001b[43mzyx\u001b[49m, degrees=\u001b[38;5;28;01mFalse\u001b[39;00m)\n",
      "\u001b[31mNameError\u001b[39m: name 'zyx' is not defined"
     ]
    }
   ],
   "source": [
    "HIP, NECK, L_HIP, R_HIP, L_SHOULDER, R_SHOULDER = 0, 9, 4, 1, 11, 14\n",
    "euler_angle = estimate_alignment_euler(\n",
    "    poses_global[0]\n",
    ")\n",
    "\n",
    "print(euler_angle, data_reshaped[0][17])"
   ]
  },
  {
   "cell_type": "code",
   "execution_count": 104,
   "id": "a00e77c1",
   "metadata": {},
   "outputs": [],
   "source": [
    "rot = R.from_euler('xyz', euler_angle, degrees=False).inv()\n",
    "poses_local = rot.apply(poses_global[0])"
   ]
  },
  {
   "cell_type": "code",
   "execution_count": null,
   "id": "c4889ca7",
   "metadata": {},
   "outputs": [],
   "source": []
  },
  {
   "cell_type": "code",
   "execution_count": null,
   "id": "cc3337b4",
   "metadata": {},
   "outputs": [],
   "source": []
  }
 ],
 "metadata": {
  "kernelspec": {
   "display_name": "Python 3",
   "language": "python",
   "name": "python3"
  },
  "language_info": {
   "codemirror_mode": {
    "name": "ipython",
    "version": 3
   },
   "file_extension": ".py",
   "mimetype": "text/x-python",
   "name": "python",
   "nbconvert_exporter": "python",
   "pygments_lexer": "ipython3",
   "version": "3.11.8"
  }
 },
 "nbformat": 4,
 "nbformat_minor": 5
}
