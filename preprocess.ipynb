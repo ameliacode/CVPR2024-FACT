{
 "cells": [
  {
   "cell_type": "code",
   "execution_count": 5,
   "id": "3d4dad72",
   "metadata": {},
   "outputs": [],
   "source": [
    "import numpy as np\n",
    "\n",
    "pose2d = np.load(\"./data/fs_tas/features/2dvpd/men_olympic_short_program_2010_01_00011475_00015700.npy\")\n",
    "pose3d = np.load(\"./data/fs_tas/features/pose3d/men_olympic_short_program_2010_01_00011475_00015700.npy\")"
   ]
  },
  {
   "cell_type": "code",
   "execution_count": 6,
   "id": "ece2fd1d",
   "metadata": {},
   "outputs": [
    {
     "name": "stdout",
     "output_type": "stream",
     "text": [
      "(4225, 52) (4225, 54)\n"
     ]
    }
   ],
   "source": [
    "print(pose2d.shape, pose3d.shape)"
   ]
  },
  {
   "cell_type": "code",
   "execution_count": 44,
   "id": "9d90dd2d",
   "metadata": {},
   "outputs": [
    {
     "data": {
      "text/plain": [
       "array([ 0.        ,  0.        ,  0.        ,  0.1       , -0.1       ,\n",
       "        0.        ,  0.16145063, -0.27814506, -0.02155036,  0.07966797,\n",
       "       -0.29427808, -0.09153423, -0.1       , -0.1       ,  0.        ,\n",
       "       -0.51444057, -0.26169251,  0.31070377,  0.24323118,  0.99225348,\n",
       "       -0.16727259,  0.07784026,  0.1255988 , -0.4155766 ,  0.32875326,\n",
       "        0.3369973 , -0.01390487,  0.        ,  0.5       ,  0.        ,\n",
       "       -0.05461721, -0.32891146,  0.37189825,  0.4316351 , -0.10616841,\n",
       "        0.1711811 , -0.45344965, -0.22956074, -0.46443459, -0.16494427,\n",
       "       -0.58486245,  0.55479526, -0.41521079, -0.34873852,  0.08194098,\n",
       "       -0.1300648 , -0.28276005,  0.07838274,  0.42528242, -0.20167466,\n",
       "       -0.06687867,  0.07917083,  0.84152812, -0.07275678])"
      ]
     },
     "execution_count": 44,
     "metadata": {},
     "output_type": "execute_result"
    }
   ],
   "source": [
    "pose3d[2000]"
   ]
  },
  {
   "cell_type": "code",
   "execution_count": 73,
   "id": "f9aacfe5",
   "metadata": {},
   "outputs": [],
   "source": [
    "data_reshaped = pose3d.reshape(-1, 18, 3)[2000:2200,:,:]"
   ]
  },
  {
   "cell_type": "code",
   "execution_count": 74,
   "id": "ed59b3f3",
   "metadata": {},
   "outputs": [],
   "source": [
    "import numpy as np\n",
    "from scipy.spatial.transform import Rotation as R\n",
    "\n",
    "def plot_3d(pose_3d):\n",
    "    all_poses = pose_3d\n",
    "    poses = []\n",
    "\n",
    "    for frame in range(len(all_poses)):\n",
    "        vals = all_poses[frame]\n",
    "        joint_positions = vals[:17].copy()\n",
    "        euler_angles = vals[17].copy()\n",
    "        \n",
    "        rot = R.from_euler('xyz', -euler_angles, degrees=True)\n",
    "        # rot = R.from_rotvec(-euler_angles)\n",
    "        joint_positions = rot.apply(joint_positions)\n",
    "        \n",
    "        poses.append(joint_positions)\n",
    "\n",
    "    return np.array(poses)"
   ]
  },
  {
   "cell_type": "code",
   "execution_count": 75,
   "id": "52edce43",
   "metadata": {},
   "outputs": [
    {
     "data": {
      "text/plain": [
       "array([[ 0.00000000e+00,  0.00000000e+00,  0.00000000e+00],\n",
       "       [ 1.00114089e-01, -9.98728557e-02,  1.60685506e-03],\n",
       "       [ 1.62097187e-01, -2.77968959e-01, -1.87925050e-02],\n",
       "       [ 8.13715395e-02, -2.94301186e-01, -8.99476106e-02],\n",
       "       [-9.98641786e-02, -1.00126797e-01, -1.33052664e-03],\n",
       "       [-5.18621490e-01, -2.61921712e-01,  3.03475989e-01],\n",
       "       [ 2.44421889e-01,  9.92332572e-01, -1.65053012e-01],\n",
       "       [ 8.37791116e-02,  1.25130932e-01, -4.14561684e-01],\n",
       "       [ 3.28500688e-01,  3.37395183e-01, -9.54059946e-03],\n",
       "       [-6.24774815e-04,  4.99999132e-01, -6.90821048e-04],\n",
       "       [-5.96629623e-02, -3.28473291e-01,  3.71510065e-01],\n",
       "       [ 4.29206447e-01, -1.05386836e-01,  1.77648541e-01],\n",
       "       [-4.46291615e-01, -2.30769175e-01, -4.70726654e-01],\n",
       "       [-1.72344718e-01, -5.84314599e-01,  5.53120445e-01],\n",
       "       [-4.15933507e-01, -3.49153415e-01,  7.63157337e-02],\n",
       "       [-1.30848680e-01, -2.82817860e-01,  7.68546389e-02],\n",
       "       [ 4.26470563e-01, -2.01225495e-01, -6.03466687e-02]])"
      ]
     },
     "execution_count": 75,
     "metadata": {},
     "output_type": "execute_result"
    }
   ],
   "source": [
    "poses_global = plot_3d(data_reshaped)\n",
    "poses_global[0]"
   ]
  },
  {
   "cell_type": "code",
   "execution_count": null,
   "id": "9a70e710",
   "metadata": {},
   "outputs": [],
   "source": [
    "import numpy as np\n",
    "from scipy.spatial.transform import Rotation as R\n",
    "\n",
    "def get_canonical_orientation(X, torso_forward_vec, spine_up_vec,\n",
    "                              interp_start=45, interp_range=30):\n",
    "    X_zm = X - np.mean(X, axis=0).flatten()\n",
    "    _, _, V = np.linalg.svd(X_zm)\n",
    "    torso_forward_vec = -V[2, :] if V[2, :].dot(torso_forward_vec) < 0 else V[2, :]\n",
    "    spine_up_vec = -V[0, :] if V[0, :].dot(spine_up_vec) < 0 else V[0, :]\n",
    "    torso_pitch = np.degrees(np.arcsin(torso_forward_vec[2]))\n",
    "    if torso_pitch > interp_start:\n",
    "        if torso_pitch < interp_start + interp_range:\n",
    "            theta = (torso_pitch - interp_start) / interp_range\n",
    "            return theta * -spine_up_vec + (1. - theta) * torso_forward_vec\n",
    "        else:\n",
    "            return -spine_up_vec\n",
    "    elif torso_pitch < -interp_start:\n",
    "        if torso_pitch > -interp_start - interp_range:\n",
    "            theta = (-torso_pitch - interp_start) / interp_range\n",
    "            return theta * spine_up_vec + (1. - theta) * torso_forward_vec\n",
    "        else:\n",
    "            return spine_up_vec\n",
    "    else:\n",
    "        return torso_forward_vec\n",
    "\n",
    "def h36m_global_to_local(pose_3d_global):\n",
    "    \"\"\"\n",
    "    Convert H36M global joint positions to local with canonical orientation alignment.\n",
    "    \n",
    "    H36M 17-joint skeleton:\n",
    "    0: Hip, 1: RHip, 2: RKnee, 3: RAnkle, 4: LHip, 5: LKnee, 6: LAnkle  \n",
    "    7: Spine, 8: Thorax, 9: Neck, 10: Head, 11: LShoulder, 12: LElbow, 13: LWrist\n",
    "    14: RShoulder, 15: RElbow, 16: RWrist\n",
    "    \n",
    "    Args:\n",
    "        pose_3d_global: (nframe, 17, 3) array of global joint positions\n",
    "    \n",
    "    Returns:\n",
    "        pose_3d_local: (nframe, 18, 3) array where:\n",
    "                      - First row (index 0) contains euler angles (rx, ry, rz)\n",
    "                      - Remaining 17 rows contain local joint positions\n",
    "    \"\"\"\n",
    "    nframes, njoints, _ = pose_3d_global.shape\n",
    "    pose_3d_local = np.zeros((nframes, 18, 3))\n",
    "    \n",
    "    Z_UNIT = np.array([0, 0, 1])\n",
    "    HIP, NECK, L_HIP, R_HIP, L_SHOULDER, R_SHOULDER = 0, 9, 4, 1, 11, 14\n",
    "    \n",
    "    for frame in range(nframes):\n",
    "        xyz = pose_3d_global[frame].copy()\n",
    "        \n",
    "        root_position = xyz[HIP].copy()\n",
    "        xyz = xyz - root_position\n",
    "        \n",
    "        key_joints = xyz[[HIP, L_SHOULDER, R_SHOULDER, NECK, L_HIP, R_HIP], :]\n",
    "        torso_forward_vec = np.cross(xyz[L_HIP, :] - xyz[HIP, :], xyz[R_HIP, :] - xyz[HIP, :])\n",
    "        spine_up_vec = xyz[NECK, :] - xyz[HIP, :]\n",
    "        \n",
    "        forward_vec = get_canonical_orientation(key_joints, torso_forward_vec, spine_up_vec)\n",
    "        forward_vec[2] = 0\n",
    "        forward_vec = forward_vec / np.linalg.norm(forward_vec)\n",
    "        lateral_vec = np.cross(Z_UNIT, forward_vec)\n",
    "        rot_mat = np.array([lateral_vec, forward_vec, Z_UNIT]).T\n",
    "        xyz = xyz.dot(rot_mat)\n",
    "        \n",
    "        theta = np.degrees(np.arccos(np.clip(lateral_vec[0], -1, 1)))\n",
    "        if lateral_vec[1] < 0:\n",
    "            theta = -theta\n",
    "        \n",
    "        euler_angles = np.array([0, 0, theta])\n",
    "        \n",
    "        pose_3d_local[frame, 17, :] = euler_angles\n",
    "        pose_3d_local[frame, :17, :] = xyz\n",
    "    \n",
    "    return pose_3d_local"
   ]
  },
  {
   "cell_type": "code",
   "execution_count": 66,
   "id": "ddb833b8",
   "metadata": {},
   "outputs": [
    {
     "data": {
      "text/plain": [
       "array([[ 0.00000000e+00,  0.00000000e+00,  0.00000000e+00],\n",
       "       [ 1.41214014e-01,  7.48466445e-03,  1.60685506e-03],\n",
       "       [ 3.06282224e-01,  9.86581943e-02, -1.87925050e-02],\n",
       "       [ 2.57100833e-01,  1.64723031e-01, -8.99476106e-02],\n",
       "       [-7.46971883e-03,  1.41217679e-01, -1.33052664e-03],\n",
       "       [-2.11125220e-01,  5.41292319e-01,  3.03475989e-01],\n",
       "       [-4.80737476e-01, -9.01863334e-01, -1.65053012e-01],\n",
       "       [-2.12007345e-02, -1.49087956e-01, -4.14561684e-01],\n",
       "       [ 1.92086649e-02, -4.70509552e-01, -9.54059946e-03],\n",
       "       [-3.34360738e-01, -3.71755860e-01, -6.90821048e-04],\n",
       "       [ 1.74942038e-01,  2.84340738e-01,  3.71510065e-01],\n",
       "       [ 3.89855267e-01, -2.08176439e-01,  1.77648541e-01],\n",
       "       [-1.78090093e-01,  4.69802657e-01, -4.70726654e-01],\n",
       "       [ 2.61916577e-01,  5.50023598e-01,  5.53120445e-01],\n",
       "       [-7.64370008e-02,  5.37648747e-01,  7.63157337e-02],\n",
       "       [ 9.14667744e-02,  2.97894525e-01,  7.68546389e-02],\n",
       "       [ 4.51819161e-01, -1.35012174e-01, -6.03466687e-02],\n",
       "       [ 0.00000000e+00,  0.00000000e+00, -1.27625315e-02]])"
      ]
     },
     "execution_count": 66,
     "metadata": {},
     "output_type": "execute_result"
    }
   ],
   "source": [
    "poses_local = h36m_global_to_local(pose_3d_global=poses_global)\n",
    "poses_local[0]"
   ]
  },
  {
   "cell_type": "code",
   "execution_count": 56,
   "id": "b49b695a",
   "metadata": {},
   "outputs": [
    {
     "name": "stdout",
     "output_type": "stream",
     "text": [
      "0.0 0.0\n",
      "0.0 0.0\n",
      "0.0 0.0\n",
      "0.1 0.08077789455737432\n",
      "-0.1 -0.08426823823933811\n",
      "0.0 0.07983605560719967\n",
      "0.16145062948361583 0.24215935057600577\n",
      "-0.2781450603924403 -0.17515222952392107\n",
      "-0.021550357462093616 0.12073087305872049\n",
      "0.07966796832965257 0.26393196224026255\n",
      "-0.29427807724616345 -0.17738611044226626\n",
      "-0.09153423387788763 0.014112938292717174\n",
      "-0.1 0.11495300922634645\n",
      "-0.1 0.044540052968931446\n",
      "0.0 -0.06929638772210492\n",
      "-0.5144405742717794 0.3794877675531537\n",
      "-0.26169250904630825 0.5088708000761782\n",
      "0.3107037739014052 -0.16342720695147345\n",
      "0.24323118284870893 -1.0317346536090215\n",
      "0.9922534770172997 -0.08312153278111875\n",
      "-0.1672725879200816 0.017969556554744505\n",
      "0.07784025798322973 -0.18366900687337442\n",
      "0.12559880481510344 -0.3321907382104551\n",
      "-0.41557660458160395 -0.2246176510668612\n",
      "0.3287532632116563 -0.3875674800396097\n",
      "0.3369973012020388 -0.15506150610229888\n",
      "-0.013904871919862984 0.21814355890997902\n",
      "0.0 -0.4893272594593019\n",
      "0.5 0.09932046317601666\n",
      "0.0 -0.02634916971273684\n",
      "-0.05461720989646907 0.3736864508900768\n",
      "-0.3289114627637418 0.2445805105065451\n",
      "0.37189825200881566 0.22363566375470575\n",
      "0.4316351047034536 0.049691608809920525\n",
      "-0.10616841416627905 -0.17262016399315946\n",
      "0.17118109527178668 0.4411536990145827\n",
      "-0.45344964770279295 0.24911538802521768\n",
      "-0.22956073550557995 -0.09666109603580751\n",
      "-0.4644345876120758 -0.6345174201077938\n",
      "-0.16494426962974282 0.6639092563211663\n",
      "-0.5848624458474926 0.39990864026463535\n",
      "0.5547952646613012 0.2763440919393252\n",
      "-0.4152107904917733 0.42159986044876274\n",
      "-0.3487385211144067 0.2586731645240874\n",
      "0.08194098099476523 -0.23680082905456515\n",
      "-0.13006480068606954 0.307898973436366\n",
      "-0.2827600527436843 0.08550470101647863\n",
      "0.07838274459035267 -0.03001870609385377\n",
      "0.4252824170622717 0.11706329746462157\n",
      "-0.2016746648632969 -0.3633670056145084\n",
      "-0.0668786720919429 0.28332166367626765\n",
      "0.07917082537813941 0.0\n",
      "0.8415281248114649 0.0\n",
      "-0.07275678249717255 -0.030672103326324765\n"
     ]
    }
   ],
   "source": [
    "# data_reshaped[0] == poses_local[0]\n",
    "for j in range(18):\n",
    "    for i in range(3):\n",
    "        print(data_reshaped[0][j][i], poses_local[0][j][i])"
   ]
  },
  {
   "cell_type": "code",
   "execution_count": 215,
   "id": "5d00d745",
   "metadata": {},
   "outputs": [],
   "source": [
    "def estimate_alignment_euler(L_hip, R_hip, neck, order=\"xyz\"):\n",
    "    # 1. Estimate axes\n",
    "x_axis = R_hip - L_hip                 # right\n",
    "y_axis = neck - 0.5 * (L_hip + R_hip)  # forward\n",
    "z_axis = np.cross(x_axis, y_axis)     # up (perpendicular to both)\n",
    "\n",
    "# 2. Re-orthogonalize y_axis\n",
    "y_axis = np.cross(z_axis, x_axis)\n",
    "\n",
    "# 3. Normalize\n",
    "x_axis /= np.linalg.norm(x_axis)\n",
    "y_axis /= np.linalg.norm(y_axis)\n",
    "z_axis /= np.linalg.norm(z_axis)\n",
    "\n",
    "# 4. Stack into rotation matrix\n",
    "R_align = np.stack([x_axis, y_axis, z_axis], axis=1)  # shape (3, 3)\n",
    "\n",
    "# 5. Check determinant\n",
    "det = np.linalg.det(R_align)\n",
    "if det < 0:\n",
    "    print(\"Warning: flipped frame — flipping Z to fix\")\n",
    "    R_align[:, 2] *= -1  # Flip Z to restore right-handedness\n",
    "    print(R_align)\n",
    "    return R.from_matrix(R_align).as_euler(order, degrees=False)"
   ]
  },
  {
   "cell_type": "code",
   "execution_count": 80,
   "id": "a1a8c5fc",
   "metadata": {},
   "outputs": [
    {
     "name": "stdout",
     "output_type": "stream",
     "text": [
      "[[ 0.99989134 -0.00124955  0.01468864]\n",
      " [ 0.00126971  0.99999826 -0.00136314]\n",
      " [ 0.01468691 -0.00138164 -0.99989119]]\n"
     ]
    },
    {
     "ename": "ValueError",
     "evalue": "Non-positive determinant (left-handed or null coordinate frame) in rotation matrix 0: [[ 0.99989134 -0.00124955  0.01468864]\n [ 0.00126971  0.99999826 -0.00136314]\n [ 0.01468691 -0.00138164 -0.99989119]].",
     "output_type": "error",
     "traceback": [
      "\u001b[31m---------------------------------------------------------------------------\u001b[39m",
      "\u001b[31mValueError\u001b[39m                                Traceback (most recent call last)",
      "\u001b[36mCell\u001b[39m\u001b[36m \u001b[39m\u001b[32mIn[80]\u001b[39m\u001b[32m, line 3\u001b[39m\n\u001b[32m      1\u001b[39m HIP, NECK, L_HIP, R_HIP, L_SHOULDER, R_SHOULDER = \u001b[32m0\u001b[39m, \u001b[32m9\u001b[39m, \u001b[32m4\u001b[39m, \u001b[32m1\u001b[39m, \u001b[32m11\u001b[39m, \u001b[32m14\u001b[39m\n\u001b[32m      2\u001b[39m \u001b[38;5;28mprint\u001b[39m(\n\u001b[32m----> \u001b[39m\u001b[32m3\u001b[39m     \u001b[43mestimate_alignment_euler\u001b[49m\u001b[43m(\u001b[49m\n\u001b[32m      4\u001b[39m \u001b[43m        \u001b[49m\u001b[43mposes_global\u001b[49m\u001b[43m[\u001b[49m\u001b[32;43m0\u001b[39;49m\u001b[43m]\u001b[49m\u001b[43m[\u001b[49m\u001b[43mL_HIP\u001b[49m\u001b[43m,\u001b[49m\u001b[43m \u001b[49m\u001b[43m:\u001b[49m\u001b[43m]\u001b[49m\u001b[43m \u001b[49m\u001b[43m-\u001b[49m\u001b[43m \u001b[49m\u001b[43mposes_global\u001b[49m\u001b[43m[\u001b[49m\u001b[32;43m0\u001b[39;49m\u001b[43m]\u001b[49m\u001b[43m[\u001b[49m\u001b[43mHIP\u001b[49m\u001b[43m,\u001b[49m\u001b[43m \u001b[49m\u001b[43m:\u001b[49m\u001b[43m]\u001b[49m\u001b[43m,\u001b[49m\n\u001b[32m      5\u001b[39m \u001b[43m        \u001b[49m\u001b[43mposes_global\u001b[49m\u001b[43m[\u001b[49m\u001b[32;43m0\u001b[39;49m\u001b[43m]\u001b[49m\u001b[43m[\u001b[49m\u001b[43mR_HIP\u001b[49m\u001b[43m,\u001b[49m\u001b[43m \u001b[49m\u001b[43m:\u001b[49m\u001b[43m]\u001b[49m\u001b[43m \u001b[49m\u001b[43m-\u001b[49m\u001b[43m \u001b[49m\u001b[43mposes_global\u001b[49m\u001b[43m[\u001b[49m\u001b[32;43m0\u001b[39;49m\u001b[43m]\u001b[49m\u001b[43m[\u001b[49m\u001b[43mHIP\u001b[49m\u001b[43m,\u001b[49m\u001b[43m \u001b[49m\u001b[43m:\u001b[49m\u001b[43m]\u001b[49m\u001b[43m,\u001b[49m\n\u001b[32m      6\u001b[39m \u001b[43m        \u001b[49m\u001b[43mposes_global\u001b[49m\u001b[43m[\u001b[49m\u001b[32;43m0\u001b[39;49m\u001b[43m]\u001b[49m\u001b[43m[\u001b[49m\u001b[43mNECK\u001b[49m\u001b[43m,\u001b[49m\u001b[43m \u001b[49m\u001b[43m:\u001b[49m\u001b[43m]\u001b[49m\u001b[43m \u001b[49m\u001b[43m-\u001b[49m\u001b[43m \u001b[49m\u001b[43mposes_global\u001b[49m\u001b[43m[\u001b[49m\u001b[32;43m0\u001b[39;49m\u001b[43m]\u001b[49m\u001b[43m[\u001b[49m\u001b[43mHIP\u001b[49m\u001b[43m,\u001b[49m\u001b[43m \u001b[49m\u001b[43m:\u001b[49m\u001b[43m]\u001b[49m\u001b[43m,\u001b[49m\n\u001b[32m      7\u001b[39m \u001b[43m    \u001b[49m\u001b[43m)\u001b[49m\n\u001b[32m      8\u001b[39m )\n",
      "\u001b[36mCell\u001b[39m\u001b[36m \u001b[39m\u001b[32mIn[79]\u001b[39m\u001b[32m, line 15\u001b[39m, in \u001b[36mestimate_alignment_euler\u001b[39m\u001b[34m(L_hip, R_hip, neck, order)\u001b[39m\n\u001b[32m     13\u001b[39m R_align = np.stack([right, forward, up], axis=\u001b[32m1\u001b[39m)  \u001b[38;5;66;03m# 3x3 matrix\u001b[39;00m\n\u001b[32m     14\u001b[39m \u001b[38;5;28mprint\u001b[39m(R_align)\n\u001b[32m---> \u001b[39m\u001b[32m15\u001b[39m \u001b[38;5;28;01mreturn\u001b[39;00m \u001b[43mR\u001b[49m\u001b[43m.\u001b[49m\u001b[43mfrom_matrix\u001b[49m\u001b[43m(\u001b[49m\u001b[43mR_align\u001b[49m\u001b[43m)\u001b[49m.as_euler(order, degrees=\u001b[38;5;28;01mFalse\u001b[39;00m)\n",
      "\u001b[36mFile \u001b[39m\u001b[32m_rotation.pyx:1136\u001b[39m, in \u001b[36mscipy.spatial.transform._rotation.Rotation.from_matrix\u001b[39m\u001b[34m()\u001b[39m\n",
      "\u001b[31mValueError\u001b[39m: Non-positive determinant (left-handed or null coordinate frame) in rotation matrix 0: [[ 0.99989134 -0.00124955  0.01468864]\n [ 0.00126971  0.99999826 -0.00136314]\n [ 0.01468691 -0.00138164 -0.99989119]]."
     ]
    }
   ],
   "source": [
    "HIP, NECK, L_HIP, R_HIP, L_SHOULDER, R_SHOULDER = 0, 9, 4, 1, 11, 14\n",
    "print(\n",
    "    estimate_alignment_euler(\n",
    "        poses_global[0][L_HIP, :] - poses_global[0][HIP, :],\n",
    "        poses_global[0][R_HIP, :] - poses_global[0][HIP, :],\n",
    "        poses_global[0][NECK, :] - poses_global[0][HIP, :],\n",
    "    )\n",
    ")"
   ]
  },
  {
   "cell_type": "code",
   "execution_count": null,
   "id": "a00e77c1",
   "metadata": {},
   "outputs": [],
   "source": []
  }
 ],
 "metadata": {
  "kernelspec": {
   "display_name": "Python 3",
   "language": "python",
   "name": "python3"
  },
  "language_info": {
   "codemirror_mode": {
    "name": "ipython",
    "version": 3
   },
   "file_extension": ".py",
   "mimetype": "text/x-python",
   "name": "python",
   "nbconvert_exporter": "python",
   "pygments_lexer": "ipython3",
   "version": "3.11.8"
  }
 },
 "nbformat": 4,
 "nbformat_minor": 5
}
